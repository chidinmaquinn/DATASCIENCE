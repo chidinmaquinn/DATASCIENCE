{
 "cells": [
  {
   "cell_type": "markdown",
   "id": "ba70cc72-dd76-4960-b31b-41ca140d7cbd",
   "metadata": {},
   "source": [
    "CLASS EXERCISE\n",
    "\n",
    "Add up the following operands by adding the values alone as well as assigning the values to a variable. (a) 45, 56, 79 (b) 100, 350, 1285 (c) 70, 30\n",
    "\n",
    "Subtract the following operands from each other. (a) 756-987 (b) 349-50 (c) 23-17\n",
    "\n",
    "What is 15 to the power of 4?\n",
    "\n",
    "What is the modulus of 67 divided by 18?\n",
    "\n",
    "Are the division of \"36 and 6\" the same as their floor division? If no, state your reason.\n",
    "\n",
    "The values that an operator act on are called _____?\n",
    "\n",
    "Is x==5 the same as x=5? If no, state your reason\n",
    "\n",
    "Can the subtraction operator act on a string value?\n"
   ]
  },
  {
   "cell_type": "code",
   "execution_count": null,
   "id": "30122aae-de4d-4a54-8fa0-6b39650e7281",
   "metadata": {},
   "outputs": [],
   "source": [
    "1. Add up the following operands by adding the values alone as well as assigning the values to a variable. (a) 45, 56, 79 (b) 100, 350, 1285 (c) 70, 30"
   ]
  },
  {
   "cell_type": "code",
   "execution_count": 1,
   "id": "1fcba123-a416-4cf3-bf41-9d940a3f600c",
   "metadata": {},
   "outputs": [
    {
     "data": {
      "text/plain": [
       "180"
      ]
     },
     "execution_count": 1,
     "metadata": {},
     "output_type": "execute_result"
    }
   ],
   "source": [
    "45+56+79                #adding values alone"
   ]
  },
  {
   "cell_type": "code",
   "execution_count": null,
   "id": "7dfc831a-1c44-4056-979c-eaa88eae5632",
   "metadata": {},
   "outputs": [],
   "source": [
    "x = 45                  #assigning values  to a variable\n",
    "y = 56\n",
    "z = 79\n",
    "addition = x+y+z\n",
    "print(addition)"
   ]
  },
  {
   "cell_type": "code",
   "execution_count": 2,
   "id": "ad8ccef2-731c-42b8-90c8-cafb75ca5865",
   "metadata": {},
   "outputs": [
    {
     "data": {
      "text/plain": [
       "1735"
      ]
     },
     "execution_count": 2,
     "metadata": {},
     "output_type": "execute_result"
    }
   ],
   "source": [
    "100+350+1285              #adding values alone"
   ]
  },
  {
   "cell_type": "code",
   "execution_count": 3,
   "id": "6c0fc825-6732-4046-836b-d45f4df14d6c",
   "metadata": {},
   "outputs": [
    {
     "name": "stdout",
     "output_type": "stream",
     "text": [
      "1735\n"
     ]
    }
   ],
   "source": [
    "x = 100                  #assigning values  to a variable\n",
    "y = 350\n",
    "z = 1285\n",
    "print (x+y+z)"
   ]
  },
  {
   "cell_type": "markdown",
   "id": "47df7cfc-93a7-4f9e-ad09-cf1e27352b86",
   "metadata": {},
   "source": [
    "2. Subtract the following operands from each other. (a) 756-987 (b) 349-50 (c) 23-17"
   ]
  },
  {
   "cell_type": "code",
   "execution_count": 4,
   "id": "23d08598-c69b-4a23-8811-a1d441c4507d",
   "metadata": {},
   "outputs": [
    {
     "data": {
      "text/plain": [
       "-231"
      ]
     },
     "execution_count": 4,
     "metadata": {},
     "output_type": "execute_result"
    }
   ],
   "source": [
    "756-987                #subtracting values alone"
   ]
  },
  {
   "cell_type": "code",
   "execution_count": 5,
   "id": "cb84a2f9-486c-4c9c-acec-fcf4ed6de9ba",
   "metadata": {},
   "outputs": [
    {
     "name": "stdout",
     "output_type": "stream",
     "text": [
      "-231\n"
     ]
    }
   ],
   "source": [
    "a = 756                #assigning values  to a variable\n",
    "b = 987\n",
    "print(a-b)"
   ]
  },
  {
   "cell_type": "code",
   "execution_count": 6,
   "id": "d4f06955-ff3e-490e-8e34-1536a9b586b9",
   "metadata": {},
   "outputs": [
    {
     "data": {
      "text/plain": [
       "299"
      ]
     },
     "execution_count": 6,
     "metadata": {},
     "output_type": "execute_result"
    }
   ],
   "source": [
    "349-50                  #subtracting values alone"
   ]
  },
  {
   "cell_type": "code",
   "execution_count": 9,
   "id": "d4b6c99f-dcdf-4cd8-9098-439837f0abe0",
   "metadata": {},
   "outputs": [
    {
     "name": "stdout",
     "output_type": "stream",
     "text": [
      "299\n"
     ]
    }
   ],
   "source": [
    "y = 349                 #assigning values  to a variable\n",
    "x = 50\n",
    "print (y-x)"
   ]
  },
  {
   "cell_type": "code",
   "execution_count": 8,
   "id": "462490f6-1668-4b22-91e8-b14c9e5e1b85",
   "metadata": {},
   "outputs": [
    {
     "data": {
      "text/plain": [
       "6"
      ]
     },
     "execution_count": 8,
     "metadata": {},
     "output_type": "execute_result"
    }
   ],
   "source": [
    "23-17                   #subtracting values alone"
   ]
  },
  {
   "cell_type": "code",
   "execution_count": 10,
   "id": "16e832ca-01d7-41b4-aa92-f8dc58f10f2f",
   "metadata": {},
   "outputs": [
    {
     "name": "stdout",
     "output_type": "stream",
     "text": [
      "6\n"
     ]
    }
   ],
   "source": [
    "x = 23                  #assigning values  to a variable\n",
    "y = 17\n",
    "print (x-y)"
   ]
  },
  {
   "cell_type": "markdown",
   "id": "4c82da47-93d8-4aad-9e13-386a7f5a41b2",
   "metadata": {},
   "source": [
    "3. What is 15 to the power of 4?"
   ]
  },
  {
   "cell_type": "code",
   "execution_count": 11,
   "id": "987dfec8-b1c4-46f5-8039-0ce72c5e8133",
   "metadata": {},
   "outputs": [
    {
     "data": {
      "text/plain": [
       "50625"
      ]
     },
     "execution_count": 11,
     "metadata": {},
     "output_type": "execute_result"
    }
   ],
   "source": [
    "15**4                     #subtracting values alone"
   ]
  },
  {
   "cell_type": "code",
   "execution_count": 12,
   "id": "5396c616-d8d0-46ef-9b4a-af6b44d96149",
   "metadata": {},
   "outputs": [
    {
     "name": "stdout",
     "output_type": "stream",
     "text": [
      "50625\n"
     ]
    }
   ],
   "source": [
    "a = 15                  #assigning values  to a variable\n",
    "b = 4\n",
    "print(a**b)"
   ]
  },
  {
   "cell_type": "markdown",
   "id": "2ee3d8c4-f640-499b-b863-479062971cfc",
   "metadata": {},
   "source": [
    "4. What is the modulus of 67 divided by 18?"
   ]
  },
  {
   "cell_type": "code",
   "execution_count": 15,
   "id": "e56f8637-611d-4518-ab4d-b40f4a883f34",
   "metadata": {},
   "outputs": [
    {
     "data": {
      "text/plain": [
       "13"
      ]
     },
     "execution_count": 15,
     "metadata": {},
     "output_type": "execute_result"
    }
   ],
   "source": [
    "67%18              #MODULUS"
   ]
  },
  {
   "cell_type": "markdown",
   "id": "60664f6e-8a43-4d15-814a-5adfa889201f",
   "metadata": {},
   "source": [
    "5. Are the division of \"36 and 6\" the same as their floor division? If no, state your reason."
   ]
  },
  {
   "cell_type": "code",
   "execution_count": 16,
   "id": "9e9c25ec-491b-4ce1-a956-b015217978e1",
   "metadata": {},
   "outputs": [
    {
     "data": {
      "text/plain": [
       "6.0"
      ]
     },
     "execution_count": 16,
     "metadata": {},
     "output_type": "execute_result"
    }
   ],
   "source": [
    "36/6               #DIVISION"
   ]
  },
  {
   "cell_type": "code",
   "execution_count": 17,
   "id": "8a8a8776-ea69-43f6-a4ed-1f85aa2121a7",
   "metadata": {},
   "outputs": [
    {
     "data": {
      "text/plain": [
       "6"
      ]
     },
     "execution_count": 17,
     "metadata": {},
     "output_type": "execute_result"
    }
   ],
   "source": [
    "36//6             #FLOOR DIVISION "
   ]
  },
  {
   "cell_type": "code",
   "execution_count": null,
   "id": "bf569f70-5010-4971-b880-ea941f8f1580",
   "metadata": {},
   "outputs": [],
   "source": [
    "The result are slightly different due to the datatype. The division is a float number While the floor division is an integer number"
   ]
  },
  {
   "cell_type": "code",
   "execution_count": null,
   "id": "a70d0702-1da6-4f8b-9753-506758e3d81f",
   "metadata": {},
   "outputs": [],
   "source": [
    "6. The values that an operator act on are called _____?\n",
    "\n",
    "ANSWER: OPERANDS"
   ]
  },
  {
   "cell_type": "code",
   "execution_count": null,
   "id": "dc39d3d7-b267-4f78-8458-a8ce77cdd61d",
   "metadata": {},
   "outputs": [],
   "source": [
    "7. Is x==5 the same as x=5? If no, state your reason"
   ]
  },
  {
   "cell_type": "code",
   "execution_count": 23,
   "id": "e656dd15-be56-4f2c-972c-6b373ce1e78b",
   "metadata": {},
   "outputs": [
    {
     "data": {
      "text/plain": [
       "True"
      ]
     },
     "execution_count": 23,
     "metadata": {},
     "output_type": "execute_result"
    }
   ],
   "source": [
    "x==5\n"
   ]
  },
  {
   "cell_type": "code",
   "execution_count": 21,
   "id": "f1ef9231-145c-4b3b-95c0-2b5c3763a05d",
   "metadata": {},
   "outputs": [
    {
     "name": "stdout",
     "output_type": "stream",
     "text": [
      "5\n"
     ]
    }
   ],
   "source": [
    "x = 5\n",
    "print (x)"
   ]
  },
  {
   "cell_type": "markdown",
   "id": "69d15969-1bc0-4cea-9250-a137d9640c82",
   "metadata": {},
   "source": [
    "x==5 x is not equal to 5 becaused x does not have an assigned value of 5 which makes it false. while the x=5 is saying that x now have the value of 5 assigned to it."
   ]
  },
  {
   "cell_type": "code",
   "execution_count": null,
   "id": "15b9ae56-f0fc-4214-81dc-dddf45573c6c",
   "metadata": {},
   "outputs": [],
   "source": [
    "Can the subtraction operator act on a string value?\n",
    "\n",
    "ANSWER: NOT POSSIBLE"
   ]
  },
  {
   "cell_type": "code",
   "execution_count": 2,
   "id": "fa85ad3d-bf13-4518-9e23-5670eada4406",
   "metadata": {},
   "outputs": [
    {
     "ename": "TypeError",
     "evalue": "unsupported operand type(s) for -: 'str' and 'str'",
     "output_type": "error",
     "traceback": [
      "\u001b[1;31m---------------------------------------------------------------------------\u001b[0m",
      "\u001b[1;31mTypeError\u001b[0m                                 Traceback (most recent call last)",
      "Cell \u001b[1;32mIn[2], line 1\u001b[0m\n\u001b[1;32m----> 1\u001b[0m \u001b[38;5;124m'\u001b[39m\u001b[38;5;124mstring\u001b[39m\u001b[38;5;124m'\u001b[39m \u001b[38;5;241m-\u001b[39m \u001b[38;5;124m'\u001b[39m\u001b[38;5;124mstring\u001b[39m\u001b[38;5;124m'\u001b[39m\n\u001b[0;32m      2\u001b[0m \u001b[38;5;28mprint\u001b[39m(string)\n",
      "\u001b[1;31mTypeError\u001b[0m: unsupported operand type(s) for -: 'str' and 'str'"
     ]
    }
   ],
   "source": [
    "'string' - 'string'\n",
    "print(string)\n"
   ]
  },
  {
   "cell_type": "markdown",
   "id": "7c56cd66-7f56-4fa7-9d98-533795c7fe69",
   "metadata": {},
   "source": [
    "                                               **20 Built-in functions**\n",
    " \n",
    " \n",
    "        bool()    - Returns the boolen value of the specified object\n",
    "        dict()    - Returns a dictionary (Array)\n",
    "        format()  - Format a specified value\n",
    "        float()   - Returns a floating point number\n",
    "        all()     - Returns True if all items in an iterable object are true\n",
    "        bin()     - Returns the binary version of a number\n",
    "        id()      - Returns the id of an object\n",
    "        int()     - Returns an integer number\n",
    "        len()     - Returns the length of an object\n",
    "        list()    - Returns a list\n",
    "        tuple()   - Returns a tuple\n",
    "        print()   - Prints to the standard output device\n",
    "        input()   - Allowing user input\n",
    "        range()   - Returns a sequence of numbers, starting from 0 and increments by 1 (by default)\n",
    "        str()     - Returns a string object\n",
    "        type()    - Returns the type of an object\n",
    "        sum()     - Sums the items of an iterator\n",
    "        pow()     - Returns the value of x to the power of y\n",
    "        property  - Gets, sets, deletes a property\n",
    "        set()     - Returns a new set object\n",
    "        "
   ]
  },
  {
   "cell_type": "markdown",
   "id": "1eaa686f-dc7c-4457-b1df-559ae8af1d7e",
   "metadata": {},
   "source": [
    "WHY DID I CHOOSE DATA SCIENCE?\n",
    "\n",
    "I picked Data science because i want to use my eagerness to be a solution provider to work. I found out that i derive joy whenever i am able to provide a means of solving a problem or soultion or basically offering help as well.\n",
    "\n",
    "\n",
    "WHAT PROBLEM ARE YOU TRYING TO SOLVING USING THE KNOWLEDGE OF DATA SCIENCE\n",
    "\n",
    "I really have been thinking about this question. I want to be able to use the knowledge to help stakeholders make good financial decisions e.g fintech."
   ]
  }
 ],
 "metadata": {
  "kernelspec": {
   "display_name": "Python 3 (ipykernel)",
   "language": "python",
   "name": "python3"
  },
  "language_info": {
   "codemirror_mode": {
    "name": "ipython",
    "version": 3
   },
   "file_extension": ".py",
   "mimetype": "text/x-python",
   "name": "python",
   "nbconvert_exporter": "python",
   "pygments_lexer": "ipython3",
   "version": "3.11.7"
  }
 },
 "nbformat": 4,
 "nbformat_minor": 5
}
